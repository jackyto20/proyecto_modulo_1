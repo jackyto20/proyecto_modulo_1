{
 "cells": [
  {
   "cell_type": "code",
   "execution_count": null,
   "metadata": {},
   "outputs": [],
   "source": [
    "#Saludar al usuario y darle la bienvenida\n",
    "\n",
    "#Preguntarle si quiere piedra, papel o tijera \n",
    "\n",
    "#que el ordenador elija de manera aleatoria su tirada\n",
    "\n",
    "#comparar las dos tiradas\n",
    "\n",
    "#mostrar quién ha ganado.\n",
    "\n",
    "#contra la maquina"
   ]
  }
 ],
 "metadata": {
  "language_info": {
   "name": "python"
  }
 },
 "nbformat": 4,
 "nbformat_minor": 2
}
